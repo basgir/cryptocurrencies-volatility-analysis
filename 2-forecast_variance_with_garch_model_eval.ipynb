{
 "cells": [
  {
   "cell_type": "markdown",
   "metadata": {},
   "source": [
    "# Forecast with ARCH / GARCH / EGARCH\n",
    "In this notebook we take all the results from the bruteforce and we forecast with the models\n",
    "\n",
    "We then gather the squared errors for each model. In order to compute the MCS on them."
   ]
  },
  {
   "cell_type": "code",
   "execution_count": 12,
   "metadata": {},
   "outputs": [],
   "source": [
    "from arch import arch_model\n",
    "import datetime as dt\n",
    "from libraries.Cryptov2 import Cryptocurrency\n",
    "import pandas as pd\n",
    "import numpy as np\n",
    "import datetime\n",
    "import arch\n",
    "import matplotlib.pyplot as plt\n",
    "from arch.univariate import arch_model\n",
    "from arch.univariate import ARCH, GARCH, EGARCH, MIDASHyperbolic\n",
    "from arch.univariate import ConstantMean, ZeroMean\n",
    "from arch.univariate import Normal, SkewStudent, StudentsT\n",
    "from sklearn.preprocessing import StandardScaler"
   ]
  },
  {
   "cell_type": "code",
   "execution_count": 13,
   "metadata": {},
   "outputs": [],
   "source": [
    "BTC_models = pd.read_csv(\"./models/ts/fits/BTC-results.csv\", index_col=0)\n",
    "EOS_models = pd.read_csv(\"./models/ts/fits/EOS-results.csv\", index_col=0)\n",
    "ETH_models = pd.read_csv(\"./models/ts/fits/ETH-results.csv\", index_col=0)\n",
    "IOTA_models = pd.read_csv(\"./models/ts/fits/IOTA-results.csv\", index_col=0)\n",
    "\n",
    "crypto_model_list = [BTC_models,IOTA_models,ETH_models,EOS_models]"
   ]
  },
  {
   "cell_type": "code",
   "execution_count": 14,
   "metadata": {},
   "outputs": [
    {
     "name": "stdout",
     "output_type": "stream",
     "text": [
      "Cryptocurrency V.0.1\n",
      "Data for BTC already exists.\n",
      "Reading...\n",
      "Done! 2348 rows and 49 columns\n",
      "Cryptocurrency V.0.1\n",
      "Data for IOTA already exists.\n",
      "Reading...\n",
      "Done! 841 rows and 49 columns\n",
      "Cryptocurrency V.0.1\n",
      "Data for ETH already exists.\n",
      "Reading...\n",
      "Done! 1517 rows and 49 columns\n",
      "Cryptocurrency V.0.1\n",
      "Data for EOS already exists.\n",
      "Reading...\n",
      "Done! 823 rows and 49 columns\n"
     ]
    }
   ],
   "source": [
    "BTC = Cryptocurrency('BTC', data=None ,url = 'https://coinmarketcap.com/currencies/bitcoin/historical-data/?start=20130428&end=20191001')\n",
    "IOTA = Cryptocurrency('IOTA', data=None ,url = 'https://coinmarketcap.com/currencies/iota/historical-data/?start=20130428&end=20191001')\n",
    "ETH = Cryptocurrency('ETH', data=None ,url = 'https://coinmarketcap.com/currencies/ethereum/historical-data/?start=20130428&end=20191001')\n",
    "EOS = Cryptocurrency('EOS', data=None ,url = 'https://coinmarketcap.com/currencies/eos/historical-data/?start=20130428&end=20191001')"
   ]
  },
  {
   "cell_type": "code",
   "execution_count": 15,
   "metadata": {},
   "outputs": [],
   "source": [
    "crypto_list = [BTC,IOTA,ETH,EOS]"
   ]
  },
  {
   "cell_type": "code",
   "execution_count": 16,
   "metadata": {},
   "outputs": [],
   "source": [
    "for each in crypto_list:\n",
    "    each.data['log_price'] = np.log(each.data['close'])\n",
    "    each.data['pct_change'] = each.data['log_price'].diff()\n",
    "    each.data['stdev14'] = each.data['pct_change'].rolling(window=14, center=False).std(ddof=0)\n",
    "    each.data['stdev30'] = each.data['pct_change'].rolling(window=30, center=False).std(ddof=0)\n",
    "    each.data['stdev60'] = each.data['pct_change'].rolling(window=60, center=False).std(ddof=0)\n",
    "\n",
    "    each.data['hvol14'] = each.data['stdev14'] * (365**0.5) # Annualize.\n",
    "    each.data['hvol30'] = each.data['stdev30'] * (365**0.5) # Annualize.\n",
    "    each.data['hvol60'] = each.data['stdev60'] * (365**0.5) # Annualize.\n",
    "\n",
    "    each.data['variance14'] = each.data['hvol14']**2\n",
    "    each.data['variance30'] = each.data['hvol30']**2\n",
    "    each.data['variance60'] = each.data['hvol60']**2\n",
    "\n",
    "    each.data = each.data.dropna() # Remove rows with blank cells.\n",
    "    each.data['returns'] = each.data['pct_change'] * 100"
   ]
  },
  {
   "cell_type": "code",
   "execution_count": 17,
   "metadata": {},
   "outputs": [],
   "source": [
    "def compute_mse_and_volatility(vol_model,dist,crypto,p,q):\n",
    "    import numpy as np\n",
    "    import matplotlib.pyplot as plt\n",
    "    \n",
    "    n_days = len(crypto.data.index) * 5 // 6\n",
    "    last_date = dt.datetime(crypto.data.index[n_days].year,crypto.data.index[n_days].month,crypto.data.index[n_days].day)\n",
    "    start_date = dt.datetime(crypto.data.index[0].year,crypto.data.index[0].month,crypto.data.index[0].day)\n",
    "    \n",
    "    returns = crypto.data['returns']\n",
    "\n",
    "    am = ConstantMean(returns)\n",
    "    \n",
    "    # Our distribution\n",
    "    if dist == 'normal':\n",
    "        am.distribution = Normal()\n",
    "    elif dist == 'studentst':\n",
    "        am.distribution = StudentsT()\n",
    "    elif dist == 'skewstudent':\n",
    "        am.distribution = SkewStudent()\n",
    "\n",
    "    # Our volatility process\n",
    "    ## Double  == is super important is doesnt work\n",
    "    if vol_model == \"ARCH\":\n",
    "        am.volatility = ARCH(p=p)\n",
    "    elif vol_model == \"GARCH\":\n",
    "        am.volatility = GARCH(p=p, q=q)\n",
    "    elif vol_model == \"EGARCH\":\n",
    "        am.volatility = EGARCH(p=p, q=q)\n",
    "    \n",
    "    # We plot the series \n",
    "    x2 = crypto.data['hvol14']\n",
    "\n",
    "    res = am.fit(disp=\"off\", last_obs=last_date)\n",
    "    \n",
    "    forecasts = res.forecast(horizon=1, start=start_date, method='analytic')\n",
    "    \n",
    "    x1 = np.sqrt(0.01*forecasts.variance)\n",
    "    x1 = x1['h.1']\n",
    "    \n",
    "    squared_error = (x1-x2)**2\n",
    "    \n",
    "    return squared_error[last_date:]\n",
    "    "
   ]
  },
  {
   "cell_type": "code",
   "execution_count": 18,
   "metadata": {},
   "outputs": [],
   "source": [
    "for crypto in crypto_list:\n",
    "    df = pd.read_csv(f\"./models/ts/fits/{crypto.name}-results.csv\", index_col=0)\n",
    "    df_squared_error = pd.DataFrame()\n",
    "    for idx, row in df.iterrows():\n",
    "        squared_returns = compute_mse_and_volatility(row['volatility_model'],row['dist'],crypto,row['p'],row['q'])\n",
    "        df_squared_error[f'{crypto.name}-model-{idx}'] = squared_returns\n",
    "        \n",
    "    df_squared_error.to_csv(f\"./mcs/data/models/TS/{crypto.name}/MCS/{crypto.name}-ts-models.csv\")"
   ]
  }
 ],
 "metadata": {
  "file_extension": ".py",
  "kernelspec": {
   "display_name": "Python 3",
   "language": "python",
   "name": "python3"
  },
  "language_info": {
   "codemirror_mode": {
    "name": "ipython",
    "version": 3
   },
   "file_extension": ".py",
   "mimetype": "text/x-python",
   "name": "python",
   "nbconvert_exporter": "python",
   "pygments_lexer": "ipython3",
   "version": "3.6.9"
  },
  "mimetype": "text/x-python",
  "name": "python",
  "npconvert_exporter": "python",
  "pygments_lexer": "ipython3",
  "version": 3
 },
 "nbformat": 4,
 "nbformat_minor": 4
}
