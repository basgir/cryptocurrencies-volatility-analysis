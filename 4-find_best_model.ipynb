{
 "cells": [
  {
   "cell_type": "code",
   "execution_count": 2,
   "metadata": {},
   "outputs": [],
   "source": [
    "import pandas as pd\n",
    "import numpy as np\n",
    "import requests as rq\n",
    "import matplotlib.pyplot as plt\n",
    "from libraries.Cryptov2 import Cryptocurrency\n",
    "from arch.univariate import arch_model"
   ]
  },
  {
   "cell_type": "code",
   "execution_count": 3,
   "metadata": {},
   "outputs": [],
   "source": [
    "df_BTC = pd.read_csv(\"./models/ts/fits/BTC-results.csv\", index_col=0)\n",
    "df_EOS = pd.read_csv(\"./models/ts/fits/EOS-results.csv\", index_col=0)\n",
    "df_ETH = pd.read_csv(\"./models/ts/fits/ETH-results.csv\", index_col=0)\n",
    "df_IOTA = pd.read_csv(\"./models/ts/fits/IOTA-results.csv\", index_col=0)"
   ]
  },
  {
   "cell_type": "markdown",
   "metadata": {},
   "source": [
    "# Model selection\n",
    "## According to the Akaike selection criteria"
   ]
  },
  {
   "cell_type": "code",
   "execution_count": 4,
   "metadata": {},
   "outputs": [
    {
     "data": {
      "text/html": [
       "<div>\n",
       "<style scoped>\n",
       "    .dataframe tbody tr th:only-of-type {\n",
       "        vertical-align: middle;\n",
       "    }\n",
       "\n",
       "    .dataframe tbody tr th {\n",
       "        vertical-align: top;\n",
       "    }\n",
       "\n",
       "    .dataframe thead th {\n",
       "        text-align: right;\n",
       "    }\n",
       "</style>\n",
       "<table border=\"1\" class=\"dataframe\">\n",
       "  <thead>\n",
       "    <tr style=\"text-align: right;\">\n",
       "      <th></th>\n",
       "      <th>volatility_model</th>\n",
       "      <th>mean_model</th>\n",
       "      <th>dist</th>\n",
       "      <th>p</th>\n",
       "      <th>q</th>\n",
       "      <th>AIC_score</th>\n",
       "      <th>BIC_score</th>\n",
       "      <th>LL_score</th>\n",
       "    </tr>\n",
       "  </thead>\n",
       "  <tbody>\n",
       "    <tr>\n",
       "      <th>65</th>\n",
       "      <td>EGARCH</td>\n",
       "      <td>ConstantMean</td>\n",
       "      <td>skewstudent</td>\n",
       "      <td>2</td>\n",
       "      <td>1</td>\n",
       "      <td>-9513.053544</td>\n",
       "      <td>-9472.733259</td>\n",
       "      <td>4763.526772</td>\n",
       "    </tr>\n",
       "  </tbody>\n",
       "</table>\n",
       "</div>"
      ],
      "text/plain": [
       "   volatility_model    mean_model         dist  p  q    AIC_score  \\\n",
       "65           EGARCH  ConstantMean  skewstudent  2  1 -9513.053544   \n",
       "\n",
       "      BIC_score     LL_score  \n",
       "65 -9472.733259  4763.526772  "
      ]
     },
     "execution_count": 4,
     "metadata": {},
     "output_type": "execute_result"
    }
   ],
   "source": [
    "df_BTC[df_BTC['AIC_score'] == min(df_BTC['AIC_score'])]"
   ]
  },
  {
   "cell_type": "code",
   "execution_count": 5,
   "metadata": {},
   "outputs": [
    {
     "data": {
      "text/html": [
       "<div>\n",
       "<style scoped>\n",
       "    .dataframe tbody tr th:only-of-type {\n",
       "        vertical-align: middle;\n",
       "    }\n",
       "\n",
       "    .dataframe tbody tr th {\n",
       "        vertical-align: top;\n",
       "    }\n",
       "\n",
       "    .dataframe thead th {\n",
       "        text-align: right;\n",
       "    }\n",
       "</style>\n",
       "<table border=\"1\" class=\"dataframe\">\n",
       "  <thead>\n",
       "    <tr style=\"text-align: right;\">\n",
       "      <th></th>\n",
       "      <th>volatility_model</th>\n",
       "      <th>mean_model</th>\n",
       "      <th>dist</th>\n",
       "      <th>p</th>\n",
       "      <th>q</th>\n",
       "      <th>AIC_score</th>\n",
       "      <th>BIC_score</th>\n",
       "      <th>LL_score</th>\n",
       "    </tr>\n",
       "  </thead>\n",
       "  <tbody>\n",
       "    <tr>\n",
       "      <th>55</th>\n",
       "      <td>EGARCH</td>\n",
       "      <td>ConstantMean</td>\n",
       "      <td>studentst</td>\n",
       "      <td>1</td>\n",
       "      <td>1</td>\n",
       "      <td>-2162.18502</td>\n",
       "      <td>-2138.638498</td>\n",
       "      <td>1086.09251</td>\n",
       "    </tr>\n",
       "  </tbody>\n",
       "</table>\n",
       "</div>"
      ],
      "text/plain": [
       "   volatility_model    mean_model       dist  p  q   AIC_score    BIC_score  \\\n",
       "55           EGARCH  ConstantMean  studentst  1  1 -2162.18502 -2138.638498   \n",
       "\n",
       "      LL_score  \n",
       "55  1086.09251  "
      ]
     },
     "execution_count": 5,
     "metadata": {},
     "output_type": "execute_result"
    }
   ],
   "source": [
    "df_EOS[df_EOS['AIC_score'] == min(df_EOS['AIC_score'])]"
   ]
  },
  {
   "cell_type": "code",
   "execution_count": 6,
   "metadata": {},
   "outputs": [
    {
     "data": {
      "text/html": [
       "<div>\n",
       "<style scoped>\n",
       "    .dataframe tbody tr th:only-of-type {\n",
       "        vertical-align: middle;\n",
       "    }\n",
       "\n",
       "    .dataframe tbody tr th {\n",
       "        vertical-align: top;\n",
       "    }\n",
       "\n",
       "    .dataframe thead th {\n",
       "        text-align: right;\n",
       "    }\n",
       "</style>\n",
       "<table border=\"1\" class=\"dataframe\">\n",
       "  <thead>\n",
       "    <tr style=\"text-align: right;\">\n",
       "      <th></th>\n",
       "      <th>volatility_model</th>\n",
       "      <th>mean_model</th>\n",
       "      <th>dist</th>\n",
       "      <th>p</th>\n",
       "      <th>q</th>\n",
       "      <th>AIC_score</th>\n",
       "      <th>BIC_score</th>\n",
       "      <th>LL_score</th>\n",
       "    </tr>\n",
       "  </thead>\n",
       "  <tbody>\n",
       "    <tr>\n",
       "      <th>56</th>\n",
       "      <td>EGARCH</td>\n",
       "      <td>ConstantMean</td>\n",
       "      <td>skewstudent</td>\n",
       "      <td>1</td>\n",
       "      <td>1</td>\n",
       "      <td>-4582.200958</td>\n",
       "      <td>-4550.265896</td>\n",
       "      <td>2297.100479</td>\n",
       "    </tr>\n",
       "  </tbody>\n",
       "</table>\n",
       "</div>"
      ],
      "text/plain": [
       "   volatility_model    mean_model         dist  p  q    AIC_score  \\\n",
       "56           EGARCH  ConstantMean  skewstudent  1  1 -4582.200958   \n",
       "\n",
       "      BIC_score     LL_score  \n",
       "56 -4550.265896  2297.100479  "
      ]
     },
     "execution_count": 6,
     "metadata": {},
     "output_type": "execute_result"
    }
   ],
   "source": [
    "df_ETH[df_ETH['AIC_score'] == min(df_ETH['AIC_score'])]"
   ]
  },
  {
   "cell_type": "code",
   "execution_count": 7,
   "metadata": {},
   "outputs": [
    {
     "data": {
      "text/html": [
       "<div>\n",
       "<style scoped>\n",
       "    .dataframe tbody tr th:only-of-type {\n",
       "        vertical-align: middle;\n",
       "    }\n",
       "\n",
       "    .dataframe tbody tr th {\n",
       "        vertical-align: top;\n",
       "    }\n",
       "\n",
       "    .dataframe thead th {\n",
       "        text-align: right;\n",
       "    }\n",
       "</style>\n",
       "<table border=\"1\" class=\"dataframe\">\n",
       "  <thead>\n",
       "    <tr style=\"text-align: right;\">\n",
       "      <th></th>\n",
       "      <th>volatility_model</th>\n",
       "      <th>mean_model</th>\n",
       "      <th>dist</th>\n",
       "      <th>p</th>\n",
       "      <th>q</th>\n",
       "      <th>AIC_score</th>\n",
       "      <th>BIC_score</th>\n",
       "      <th>LL_score</th>\n",
       "    </tr>\n",
       "  </thead>\n",
       "  <tbody>\n",
       "    <tr>\n",
       "      <th>55</th>\n",
       "      <td>EGARCH</td>\n",
       "      <td>ConstantMean</td>\n",
       "      <td>studentst</td>\n",
       "      <td>1</td>\n",
       "      <td>1</td>\n",
       "      <td>-2200.285456</td>\n",
       "      <td>-2176.630366</td>\n",
       "      <td>1105.142728</td>\n",
       "    </tr>\n",
       "  </tbody>\n",
       "</table>\n",
       "</div>"
      ],
      "text/plain": [
       "   volatility_model    mean_model       dist  p  q    AIC_score    BIC_score  \\\n",
       "55           EGARCH  ConstantMean  studentst  1  1 -2200.285456 -2176.630366   \n",
       "\n",
       "       LL_score  \n",
       "55  1105.142728  "
      ]
     },
     "execution_count": 7,
     "metadata": {},
     "output_type": "execute_result"
    }
   ],
   "source": [
    "df_IOTA[df_IOTA['AIC_score'] == min(df_IOTA['AIC_score'])]"
   ]
  },
  {
   "cell_type": "code",
   "execution_count": 8,
   "metadata": {},
   "outputs": [],
   "source": [
    "round(df_BTC.sort_values(by='AIC_score', ascending=True)[['volatility_model','dist','p','q','AIC_score','BIC_score','LL_score']][:5],2).to_csv('./models/ts/fits/BTC-ordered-AIC-results.csv')\n",
    "round(df_EOS.sort_values(by='AIC_score', ascending=True)[['volatility_model','dist','p','q','AIC_score','BIC_score','LL_score']][:5],2).to_csv('./models/ts/fits/EOS-ordered-AIC-results.csv')\n",
    "round(df_ETH.sort_values(by='AIC_score', ascending=True)[['volatility_model','dist','p','q','AIC_score','BIC_score','LL_score']][:5],2).to_csv('./models/ts/fits/ETH-ordered-AIC-results.csv')\n",
    "round(df_IOTA.sort_values(by='AIC_score', ascending=True)[['volatility_model','dist','p','q','AIC_score','BIC_score','LL_score']][:5],2).to_csv('./models/ts/fits/IOTA-ordered-AIC-results.csv')"
   ]
  },
  {
   "cell_type": "markdown",
   "metadata": {},
   "source": [
    "# Model selection\n",
    "## According to the BIC selection criteria"
   ]
  },
  {
   "cell_type": "code",
   "execution_count": 9,
   "metadata": {},
   "outputs": [
    {
     "data": {
      "text/html": [
       "<div>\n",
       "<style scoped>\n",
       "    .dataframe tbody tr th:only-of-type {\n",
       "        vertical-align: middle;\n",
       "    }\n",
       "\n",
       "    .dataframe tbody tr th {\n",
       "        vertical-align: top;\n",
       "    }\n",
       "\n",
       "    .dataframe thead th {\n",
       "        text-align: right;\n",
       "    }\n",
       "</style>\n",
       "<table border=\"1\" class=\"dataframe\">\n",
       "  <thead>\n",
       "    <tr style=\"text-align: right;\">\n",
       "      <th></th>\n",
       "      <th>volatility_model</th>\n",
       "      <th>mean_model</th>\n",
       "      <th>dist</th>\n",
       "      <th>p</th>\n",
       "      <th>q</th>\n",
       "      <th>AIC_score</th>\n",
       "      <th>BIC_score</th>\n",
       "      <th>LL_score</th>\n",
       "    </tr>\n",
       "  </thead>\n",
       "  <tbody>\n",
       "    <tr>\n",
       "      <th>56</th>\n",
       "      <td>EGARCH</td>\n",
       "      <td>ConstantMean</td>\n",
       "      <td>skewstudent</td>\n",
       "      <td>1</td>\n",
       "      <td>1</td>\n",
       "      <td>-9510.880646</td>\n",
       "      <td>-9476.320402</td>\n",
       "      <td>4761.440323</td>\n",
       "    </tr>\n",
       "  </tbody>\n",
       "</table>\n",
       "</div>"
      ],
      "text/plain": [
       "   volatility_model    mean_model         dist  p  q    AIC_score  \\\n",
       "56           EGARCH  ConstantMean  skewstudent  1  1 -9510.880646   \n",
       "\n",
       "      BIC_score     LL_score  \n",
       "56 -9476.320402  4761.440323  "
      ]
     },
     "execution_count": 9,
     "metadata": {},
     "output_type": "execute_result"
    }
   ],
   "source": [
    "df_BTC[df_BTC['BIC_score'] == min(df_BTC['BIC_score'])]"
   ]
  },
  {
   "cell_type": "code",
   "execution_count": 10,
   "metadata": {},
   "outputs": [
    {
     "data": {
      "text/html": [
       "<div>\n",
       "<style scoped>\n",
       "    .dataframe tbody tr th:only-of-type {\n",
       "        vertical-align: middle;\n",
       "    }\n",
       "\n",
       "    .dataframe tbody tr th {\n",
       "        vertical-align: top;\n",
       "    }\n",
       "\n",
       "    .dataframe thead th {\n",
       "        text-align: right;\n",
       "    }\n",
       "</style>\n",
       "<table border=\"1\" class=\"dataframe\">\n",
       "  <thead>\n",
       "    <tr style=\"text-align: right;\">\n",
       "      <th></th>\n",
       "      <th>volatility_model</th>\n",
       "      <th>mean_model</th>\n",
       "      <th>dist</th>\n",
       "      <th>p</th>\n",
       "      <th>q</th>\n",
       "      <th>AIC_score</th>\n",
       "      <th>BIC_score</th>\n",
       "      <th>LL_score</th>\n",
       "    </tr>\n",
       "  </thead>\n",
       "  <tbody>\n",
       "    <tr>\n",
       "      <th>55</th>\n",
       "      <td>EGARCH</td>\n",
       "      <td>ConstantMean</td>\n",
       "      <td>studentst</td>\n",
       "      <td>1</td>\n",
       "      <td>1</td>\n",
       "      <td>-2162.18502</td>\n",
       "      <td>-2138.638498</td>\n",
       "      <td>1086.09251</td>\n",
       "    </tr>\n",
       "  </tbody>\n",
       "</table>\n",
       "</div>"
      ],
      "text/plain": [
       "   volatility_model    mean_model       dist  p  q   AIC_score    BIC_score  \\\n",
       "55           EGARCH  ConstantMean  studentst  1  1 -2162.18502 -2138.638498   \n",
       "\n",
       "      LL_score  \n",
       "55  1086.09251  "
      ]
     },
     "execution_count": 10,
     "metadata": {},
     "output_type": "execute_result"
    }
   ],
   "source": [
    "df_EOS[df_EOS['BIC_score'] == min(df_EOS['BIC_score'])]"
   ]
  },
  {
   "cell_type": "code",
   "execution_count": 11,
   "metadata": {},
   "outputs": [
    {
     "data": {
      "text/html": [
       "<div>\n",
       "<style scoped>\n",
       "    .dataframe tbody tr th:only-of-type {\n",
       "        vertical-align: middle;\n",
       "    }\n",
       "\n",
       "    .dataframe tbody tr th {\n",
       "        vertical-align: top;\n",
       "    }\n",
       "\n",
       "    .dataframe thead th {\n",
       "        text-align: right;\n",
       "    }\n",
       "</style>\n",
       "<table border=\"1\" class=\"dataframe\">\n",
       "  <thead>\n",
       "    <tr style=\"text-align: right;\">\n",
       "      <th></th>\n",
       "      <th>volatility_model</th>\n",
       "      <th>mean_model</th>\n",
       "      <th>dist</th>\n",
       "      <th>p</th>\n",
       "      <th>q</th>\n",
       "      <th>AIC_score</th>\n",
       "      <th>BIC_score</th>\n",
       "      <th>LL_score</th>\n",
       "    </tr>\n",
       "  </thead>\n",
       "  <tbody>\n",
       "    <tr>\n",
       "      <th>55</th>\n",
       "      <td>EGARCH</td>\n",
       "      <td>ConstantMean</td>\n",
       "      <td>studentst</td>\n",
       "      <td>1</td>\n",
       "      <td>1</td>\n",
       "      <td>-4576.920116</td>\n",
       "      <td>-4550.307563</td>\n",
       "      <td>2293.460058</td>\n",
       "    </tr>\n",
       "  </tbody>\n",
       "</table>\n",
       "</div>"
      ],
      "text/plain": [
       "   volatility_model    mean_model       dist  p  q    AIC_score    BIC_score  \\\n",
       "55           EGARCH  ConstantMean  studentst  1  1 -4576.920116 -4550.307563   \n",
       "\n",
       "       LL_score  \n",
       "55  2293.460058  "
      ]
     },
     "execution_count": 11,
     "metadata": {},
     "output_type": "execute_result"
    }
   ],
   "source": [
    "df_ETH[df_ETH['BIC_score'] == min(df_ETH['BIC_score'])]"
   ]
  },
  {
   "cell_type": "code",
   "execution_count": 12,
   "metadata": {},
   "outputs": [
    {
     "data": {
      "text/html": [
       "<div>\n",
       "<style scoped>\n",
       "    .dataframe tbody tr th:only-of-type {\n",
       "        vertical-align: middle;\n",
       "    }\n",
       "\n",
       "    .dataframe tbody tr th {\n",
       "        vertical-align: top;\n",
       "    }\n",
       "\n",
       "    .dataframe thead th {\n",
       "        text-align: right;\n",
       "    }\n",
       "</style>\n",
       "<table border=\"1\" class=\"dataframe\">\n",
       "  <thead>\n",
       "    <tr style=\"text-align: right;\">\n",
       "      <th></th>\n",
       "      <th>volatility_model</th>\n",
       "      <th>mean_model</th>\n",
       "      <th>dist</th>\n",
       "      <th>p</th>\n",
       "      <th>q</th>\n",
       "      <th>AIC_score</th>\n",
       "      <th>BIC_score</th>\n",
       "      <th>LL_score</th>\n",
       "    </tr>\n",
       "  </thead>\n",
       "  <tbody>\n",
       "    <tr>\n",
       "      <th>55</th>\n",
       "      <td>EGARCH</td>\n",
       "      <td>ConstantMean</td>\n",
       "      <td>studentst</td>\n",
       "      <td>1</td>\n",
       "      <td>1</td>\n",
       "      <td>-2200.285456</td>\n",
       "      <td>-2176.630366</td>\n",
       "      <td>1105.142728</td>\n",
       "    </tr>\n",
       "  </tbody>\n",
       "</table>\n",
       "</div>"
      ],
      "text/plain": [
       "   volatility_model    mean_model       dist  p  q    AIC_score    BIC_score  \\\n",
       "55           EGARCH  ConstantMean  studentst  1  1 -2200.285456 -2176.630366   \n",
       "\n",
       "       LL_score  \n",
       "55  1105.142728  "
      ]
     },
     "execution_count": 12,
     "metadata": {},
     "output_type": "execute_result"
    }
   ],
   "source": [
    "df_IOTA[df_IOTA['BIC_score'] == min(df_IOTA['BIC_score'])]"
   ]
  },
  {
   "cell_type": "markdown",
   "metadata": {},
   "source": [
    "# Model selection\n",
    "## According to the maximization of the log likelihood"
   ]
  },
  {
   "cell_type": "code",
   "execution_count": 13,
   "metadata": {},
   "outputs": [
    {
     "data": {
      "text/html": [
       "<div>\n",
       "<style scoped>\n",
       "    .dataframe tbody tr th:only-of-type {\n",
       "        vertical-align: middle;\n",
       "    }\n",
       "\n",
       "    .dataframe tbody tr th {\n",
       "        vertical-align: top;\n",
       "    }\n",
       "\n",
       "    .dataframe thead th {\n",
       "        text-align: right;\n",
       "    }\n",
       "</style>\n",
       "<table border=\"1\" class=\"dataframe\">\n",
       "  <thead>\n",
       "    <tr style=\"text-align: right;\">\n",
       "      <th></th>\n",
       "      <th>volatility_model</th>\n",
       "      <th>mean_model</th>\n",
       "      <th>dist</th>\n",
       "      <th>p</th>\n",
       "      <th>q</th>\n",
       "      <th>AIC_score</th>\n",
       "      <th>BIC_score</th>\n",
       "      <th>LL_score</th>\n",
       "    </tr>\n",
       "  </thead>\n",
       "  <tbody>\n",
       "    <tr>\n",
       "      <th>62</th>\n",
       "      <td>EGARCH</td>\n",
       "      <td>ConstantMean</td>\n",
       "      <td>skewstudent</td>\n",
       "      <td>1</td>\n",
       "      <td>3</td>\n",
       "      <td>-9511.111494</td>\n",
       "      <td>-9465.031169</td>\n",
       "      <td>4763.555747</td>\n",
       "    </tr>\n",
       "  </tbody>\n",
       "</table>\n",
       "</div>"
      ],
      "text/plain": [
       "   volatility_model    mean_model         dist  p  q    AIC_score  \\\n",
       "62           EGARCH  ConstantMean  skewstudent  1  3 -9511.111494   \n",
       "\n",
       "      BIC_score     LL_score  \n",
       "62 -9465.031169  4763.555747  "
      ]
     },
     "execution_count": 13,
     "metadata": {},
     "output_type": "execute_result"
    }
   ],
   "source": [
    "df_BTC[df_BTC['LL_score'] == max(df_BTC['LL_score'])]"
   ]
  },
  {
   "cell_type": "code",
   "execution_count": 14,
   "metadata": {},
   "outputs": [
    {
     "data": {
      "text/html": [
       "<div>\n",
       "<style scoped>\n",
       "    .dataframe tbody tr th:only-of-type {\n",
       "        vertical-align: middle;\n",
       "    }\n",
       "\n",
       "    .dataframe tbody tr th {\n",
       "        vertical-align: top;\n",
       "    }\n",
       "\n",
       "    .dataframe thead th {\n",
       "        text-align: right;\n",
       "    }\n",
       "</style>\n",
       "<table border=\"1\" class=\"dataframe\">\n",
       "  <thead>\n",
       "    <tr style=\"text-align: right;\">\n",
       "      <th></th>\n",
       "      <th>volatility_model</th>\n",
       "      <th>mean_model</th>\n",
       "      <th>dist</th>\n",
       "      <th>p</th>\n",
       "      <th>q</th>\n",
       "      <th>AIC_score</th>\n",
       "      <th>BIC_score</th>\n",
       "      <th>LL_score</th>\n",
       "    </tr>\n",
       "  </thead>\n",
       "  <tbody>\n",
       "    <tr>\n",
       "      <th>77</th>\n",
       "      <td>EGARCH</td>\n",
       "      <td>ConstantMean</td>\n",
       "      <td>skewstudent</td>\n",
       "      <td>3</td>\n",
       "      <td>2</td>\n",
       "      <td>-2158.30725</td>\n",
       "      <td>-2115.923511</td>\n",
       "      <td>1088.153625</td>\n",
       "    </tr>\n",
       "  </tbody>\n",
       "</table>\n",
       "</div>"
      ],
      "text/plain": [
       "   volatility_model    mean_model         dist  p  q   AIC_score    BIC_score  \\\n",
       "77           EGARCH  ConstantMean  skewstudent  3  2 -2158.30725 -2115.923511   \n",
       "\n",
       "       LL_score  \n",
       "77  1088.153625  "
      ]
     },
     "execution_count": 14,
     "metadata": {},
     "output_type": "execute_result"
    }
   ],
   "source": [
    "df_EOS[df_EOS['LL_score'] == max(df_EOS['LL_score'])]"
   ]
  },
  {
   "cell_type": "code",
   "execution_count": 15,
   "metadata": {},
   "outputs": [
    {
     "data": {
      "text/html": [
       "<div>\n",
       "<style scoped>\n",
       "    .dataframe tbody tr th:only-of-type {\n",
       "        vertical-align: middle;\n",
       "    }\n",
       "\n",
       "    .dataframe tbody tr th {\n",
       "        vertical-align: top;\n",
       "    }\n",
       "\n",
       "    .dataframe thead th {\n",
       "        text-align: right;\n",
       "    }\n",
       "</style>\n",
       "<table border=\"1\" class=\"dataframe\">\n",
       "  <thead>\n",
       "    <tr style=\"text-align: right;\">\n",
       "      <th></th>\n",
       "      <th>volatility_model</th>\n",
       "      <th>mean_model</th>\n",
       "      <th>dist</th>\n",
       "      <th>p</th>\n",
       "      <th>q</th>\n",
       "      <th>AIC_score</th>\n",
       "      <th>BIC_score</th>\n",
       "      <th>LL_score</th>\n",
       "    </tr>\n",
       "  </thead>\n",
       "  <tbody>\n",
       "    <tr>\n",
       "      <th>77</th>\n",
       "      <td>EGARCH</td>\n",
       "      <td>ConstantMean</td>\n",
       "      <td>skewstudent</td>\n",
       "      <td>3</td>\n",
       "      <td>2</td>\n",
       "      <td>-4578.768567</td>\n",
       "      <td>-4530.865974</td>\n",
       "      <td>2298.384284</td>\n",
       "    </tr>\n",
       "  </tbody>\n",
       "</table>\n",
       "</div>"
      ],
      "text/plain": [
       "   volatility_model    mean_model         dist  p  q    AIC_score  \\\n",
       "77           EGARCH  ConstantMean  skewstudent  3  2 -4578.768567   \n",
       "\n",
       "      BIC_score     LL_score  \n",
       "77 -4530.865974  2298.384284  "
      ]
     },
     "execution_count": 15,
     "metadata": {},
     "output_type": "execute_result"
    }
   ],
   "source": [
    "df_ETH[df_ETH['LL_score'] == max(df_ETH['LL_score'])]"
   ]
  },
  {
   "cell_type": "code",
   "execution_count": 16,
   "metadata": {},
   "outputs": [
    {
     "data": {
      "text/html": [
       "<div>\n",
       "<style scoped>\n",
       "    .dataframe tbody tr th:only-of-type {\n",
       "        vertical-align: middle;\n",
       "    }\n",
       "\n",
       "    .dataframe tbody tr th {\n",
       "        vertical-align: top;\n",
       "    }\n",
       "\n",
       "    .dataframe thead th {\n",
       "        text-align: right;\n",
       "    }\n",
       "</style>\n",
       "<table border=\"1\" class=\"dataframe\">\n",
       "  <thead>\n",
       "    <tr style=\"text-align: right;\">\n",
       "      <th></th>\n",
       "      <th>volatility_model</th>\n",
       "      <th>mean_model</th>\n",
       "      <th>dist</th>\n",
       "      <th>p</th>\n",
       "      <th>q</th>\n",
       "      <th>AIC_score</th>\n",
       "      <th>BIC_score</th>\n",
       "      <th>LL_score</th>\n",
       "    </tr>\n",
       "  </thead>\n",
       "  <tbody>\n",
       "    <tr>\n",
       "      <th>80</th>\n",
       "      <td>EGARCH</td>\n",
       "      <td>ConstantMean</td>\n",
       "      <td>skewstudent</td>\n",
       "      <td>3</td>\n",
       "      <td>3</td>\n",
       "      <td>-2195.868814</td>\n",
       "      <td>-2148.558633</td>\n",
       "      <td>1107.934407</td>\n",
       "    </tr>\n",
       "  </tbody>\n",
       "</table>\n",
       "</div>"
      ],
      "text/plain": [
       "   volatility_model    mean_model         dist  p  q    AIC_score  \\\n",
       "80           EGARCH  ConstantMean  skewstudent  3  3 -2195.868814   \n",
       "\n",
       "      BIC_score     LL_score  \n",
       "80 -2148.558633  1107.934407  "
      ]
     },
     "execution_count": 16,
     "metadata": {},
     "output_type": "execute_result"
    }
   ],
   "source": [
    "df_IOTA[df_IOTA['LL_score'] == max(df_IOTA['LL_score'])]"
   ]
  },
  {
   "cell_type": "markdown",
   "metadata": {},
   "source": [
    "# Model selection\n",
    "## Accortding to Model Confidence Set\n",
    "1. BTC : Model 56\n",
    "1. EOS : Model 73\n",
    "1. IOTA : Model 8\n",
    "1. ETH : Model 73"
   ]
  },
  {
   "cell_type": "code",
   "execution_count": 17,
   "metadata": {},
   "outputs": [],
   "source": [
    "crypto_list = ['BTC','EOS','ETH','IOTA']"
   ]
  },
  {
   "cell_type": "code",
   "execution_count": 24,
   "metadata": {},
   "outputs": [
    {
     "data": {
      "text/plain": [
       "volatility_model          EGARCH\n",
       "mean_model          ConstantMean\n",
       "dist                 skewstudent\n",
       "p                              1\n",
       "q                              1\n",
       "AIC_score               -9510.88\n",
       "BIC_score               -9476.32\n",
       "LL_score                 4761.44\n",
       "Name: 56, dtype: object"
      ]
     },
     "execution_count": 24,
     "metadata": {},
     "output_type": "execute_result"
    }
   ],
   "source": [
    "df_BTC.iloc[56,:]"
   ]
  },
  {
   "cell_type": "code",
   "execution_count": 25,
   "metadata": {},
   "outputs": [
    {
     "data": {
      "text/plain": [
       "volatility_model          EGARCH\n",
       "mean_model          ConstantMean\n",
       "dist                   studentst\n",
       "p                              3\n",
       "q                              1\n",
       "AIC_score               -4574.06\n",
       "BIC_score                -4536.8\n",
       "LL_score                 2294.03\n",
       "Name: 73, dtype: object"
      ]
     },
     "execution_count": 25,
     "metadata": {},
     "output_type": "execute_result"
    }
   ],
   "source": [
    "df_ETH.iloc[73,:]"
   ]
  },
  {
   "cell_type": "code",
   "execution_count": 26,
   "metadata": {},
   "outputs": [
    {
     "data": {
      "text/plain": [
       "volatility_model            ARCH\n",
       "mean_model          ConstantMean\n",
       "dist                 skewstudent\n",
       "p                              1\n",
       "q                              3\n",
       "AIC_score                  -2111\n",
       "BIC_score               -2087.35\n",
       "LL_score                  1060.5\n",
       "Name: 8, dtype: object"
      ]
     },
     "execution_count": 26,
     "metadata": {},
     "output_type": "execute_result"
    }
   ],
   "source": [
    "df_IOTA.iloc[8,:]"
   ]
  },
  {
   "cell_type": "code",
   "execution_count": 27,
   "metadata": {},
   "outputs": [
    {
     "data": {
      "text/plain": [
       "volatility_model          EGARCH\n",
       "mean_model          ConstantMean\n",
       "dist                   studentst\n",
       "p                              3\n",
       "q                              1\n",
       "AIC_score               -2160.13\n",
       "BIC_score               -2127.16\n",
       "LL_score                 1087.06\n",
       "Name: 73, dtype: object"
      ]
     },
     "execution_count": 27,
     "metadata": {},
     "output_type": "execute_result"
    }
   ],
   "source": [
    "df_EOS.iloc[73,:]"
   ]
  }
 ],
 "metadata": {
  "kernelspec": {
   "display_name": "Python 3",
   "language": "python",
   "name": "python3"
  },
  "language_info": {
   "codemirror_mode": {
    "name": "ipython",
    "version": 3
   },
   "file_extension": ".py",
   "mimetype": "text/x-python",
   "name": "python",
   "nbconvert_exporter": "python",
   "pygments_lexer": "ipython3",
   "version": "3.6.9"
  }
 },
 "nbformat": 4,
 "nbformat_minor": 4
}
